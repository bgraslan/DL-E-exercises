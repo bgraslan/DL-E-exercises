{
 "cells": [
  {
   "cell_type": "code",
   "execution_count": 443,
   "id": "4a8ff815-1ad7-4015-96ae-fd0cac0a08c9",
   "metadata": {},
   "outputs": [],
   "source": [
    "import pandas as pd\n",
    "import numpy as np\n",
    "import matplotlib.pyplot as plt\n",
    "import copy\n",
    "np.random.seed(42)"
   ]
  },
  {
   "cell_type": "code",
   "execution_count": 56,
   "id": "2939efde-e553-4f2c-93f5-6a224df9cf67",
   "metadata": {},
   "outputs": [],
   "source": [
    "def init_params(n_x, n_h, n_y):\n",
    "    W1 = np.random.randn(n_h,n_x)*0.01\n",
    "    b1 = np.zeros((n_h,1))\n",
    "    W2 = np.random.randn(n_y,n_h)*0.01\n",
    "    b2 = np.zeros((n_y,1))\n",
    "\n",
    "    parameters = {\"W1\": W1, \"b1\": b1, \"W2\": W2, \"b2\": b2}\n",
    "\n",
    "    return parameters"
   ]
  },
  {
   "cell_type": "code",
   "execution_count": 202,
   "id": "a60ea1db-a7f6-4e50-ac30-5a2d982a02f7",
   "metadata": {},
   "outputs": [],
   "source": [
    "def forward(X, parameters):\n",
    "    W1 = parameters['W1']\n",
    "    W2 = parameters['W2']\n",
    "    b1 = parameters['b1']\n",
    "    b2 = parameters['b2']\n",
    "\n",
    "    Z1 = np.dot(W1,X) + b1\n",
    "    A1 = np.tanh(Z1)\n",
    "    #A1 = 1/(1 + np.exp(-Z1))\n",
    "    Z2 = np.dot(W2, A1) + b2\n",
    "    A2 = 1/(1 + np.exp(-Z2))\n",
    "\n",
    "    #print(A2.shape)\n",
    "    cache = {\"Z1\": Z1, \"A1\": A1, \"Z2\": Z2, \"A2\":A2}\n",
    "    return A2, cache"
   ]
  },
  {
   "cell_type": "code",
   "execution_count": 69,
   "id": "813116da-6395-48a0-9e31-4958f49a00c8",
   "metadata": {},
   "outputs": [],
   "source": [
    "def get_cost(A2, Y):\n",
    "    m = Y.shape[1]\n",
    "\n",
    "    cost = np.dot((Y*np.log(A2) + (1-Y)*np.log(1-A2)), np.ones((m,1)))*(-1/m)\n",
    "    cost = float(np.squeeze(cost))\n",
    "    return cost"
   ]
  },
  {
   "cell_type": "code",
   "execution_count": 6,
   "id": "ff8b89f6-8fea-4968-ae4f-6a3f81ccf12b",
   "metadata": {},
   "outputs": [],
   "source": [
    "def backward(parameters, cache, X, Y):\n",
    "    m = X.shape[1]\n",
    "    W1 = parameters['W1']\n",
    "    W2 = parameters['W2']\n",
    "    A1 = cache['A1']\n",
    "    A2 = cache['A2']\n",
    "    \n",
    "    dZ2 = A2 - Y\n",
    "    dW2 = np.dot(dZ2, A1.T)/m\n",
    "    db2 = np.sum(dZ2, axis = 1, keepdims = True)/m\n",
    "    dZ1 = np.dot(W2.T, dZ2)*(1 - np.power(A1,2))\n",
    "    dW1 = np.dot(dZ1, X.T)/m\n",
    "    db1 = np.sum(dZ1, axis = 1, keepdims = True)/m\n",
    "\n",
    "    grads = {\"dW1\": dW1, \"db1\": db1, \"dW2\": dW2, \"db2\": db2}\n",
    "    return grads\n"
   ]
  },
  {
   "cell_type": "code",
   "execution_count": 7,
   "id": "829938e1-ed2c-450c-acf0-45dec980fab2",
   "metadata": {},
   "outputs": [],
   "source": [
    "def update(parameters, grads, learning_rate = 0.001):\n",
    "    W1 = copy.deepcopy(parameters['W1'])\n",
    "    b1 = copy.deepcopy(parameters['b1'])\n",
    "    W2 = copy.deepcopy(parameters['W2'])\n",
    "    b2 = copy.deepcopy(parameters['b2'])\n",
    "\n",
    "    dW1 = copy.deepcopy(grads['dW1'])\n",
    "    db1 = copy.deepcopy(grads['db1'])\n",
    "    dW2 = copy.deepcopy(grads['dW2'])\n",
    "    db2 = copy.deepcopy(grads['db2'])\n",
    "\n",
    "    W1 = W1 - learning_rate*dW1\n",
    "    b1 = b1 - learning_rate*db1\n",
    "    W2 = W2 - learning_rate*dW2\n",
    "    b2 = b2 - learning_rate*db2\n",
    "\n",
    "    parameters = {\"W1\": W1, \"b1\": b1, \"W2\": W2, \"b2\": b2}\n",
    "    return parameters"
   ]
  },
  {
   "cell_type": "code",
   "execution_count": 84,
   "id": "8362f9b6-aa28-450d-b727-d0d727fc1cfb",
   "metadata": {},
   "outputs": [],
   "source": [
    "def nn_model(X,Y,n_h, iter_num=1000000,lr = 0.0002 , pr_cost = False):\n",
    "    np.random.seed(42)\n",
    "    n_x = X.shape[0]\n",
    "    n_y = Y.shape[0]\n",
    "    print(X.shape,Y.shape)\n",
    "    parameters = init_params(n_x, n_h, n_y)\n",
    "    for i in range(0,iter_num):\n",
    "        A2, cache = forward(X, parameters)\n",
    "        cost = get_cost(A2,Y)\n",
    "        grads = backward(parameters, cache, X, Y)\n",
    "        parameters = update(parameters, grads, learning_rate = lr)\n",
    "        if pr_cost and i % 1000 == 0:\n",
    "            print (\"Cost after iteration %i: %f\" %(i, cost))\n",
    "\n",
    "    return parameters"
   ]
  },
  {
   "cell_type": "code",
   "execution_count": 624,
   "id": "95419e9a-d23f-4cb4-83ba-c196cbe75a9c",
   "metadata": {},
   "outputs": [],
   "source": [
    "def predict(parameters, X,th):\n",
    "    A2, cache = forward(X, parameters)\n",
    "    predictions = (A2 > th)\n",
    "    return predictions"
   ]
  },
  {
   "cell_type": "code",
   "execution_count": 663,
   "id": "feba0459-24d3-4743-a9a4-db0550ec2f2d",
   "metadata": {},
   "outputs": [],
   "source": [
    "def prepareData(df,df_test,is_valid = True):\n",
    "    train = df.copy()\n",
    "    test = df_test.copy()\n",
    "    for label,content in train.items():\n",
    "        pass\n",
    "        #max=train[label].max()\n",
    "        #train[label]=train[label].apply(lambda x: x/max)\n",
    "\n",
    "    for label,content in test.items():\n",
    "        pass\n",
    "        #max=test[label].max()\n",
    "        #test[label]=test[label].apply(lambda x: x/max)\n",
    "    \n",
    "    X_train= train.drop('Survived', axis=1)\n",
    "    y_train= train.Survived.values\n",
    "    y_train= y_train.reshape(-1,1)\n",
    "    if is_valid:\n",
    "        X_test = test.drop('Survived', axis=1)\n",
    "        y_test = test.Survived.values\n",
    "        y_test = y_test.reshape(-1,1)\n",
    "        return X_train.T, y_train.T, X_test.T, y_test.T\n",
    "    else:\n",
    "        \n",
    "        return X_train.T, y_train.T, test.T, np.array([0])"
   ]
  },
  {
   "cell_type": "markdown",
   "id": "f8a097c2-f271-4033-a698-66a605f13466",
   "metadata": {},
   "source": [
    "Import dataset"
   ]
  },
  {
   "cell_type": "code",
   "execution_count": 595,
   "id": "834e4660-9001-480e-882f-ffc19cef8da3",
   "metadata": {},
   "outputs": [],
   "source": [
    "df = pd.read_csv('Data/train.csv')\n",
    "df_test = pd.read_csv('Data/test.csv')"
   ]
  },
  {
   "cell_type": "code",
   "execution_count": 596,
   "id": "186e7fd3-2fb0-4918-b595-69e9a2624ec3",
   "metadata": {},
   "outputs": [],
   "source": [
    "df.drop(columns='PassengerId', inplace=True)\n",
    "df_test.drop(columns='PassengerId', inplace=True)\n",
    "\n",
    "df.drop(columns='Cabin', inplace=True)\n",
    "df_test.drop(columns='Cabin', inplace=True)\n",
    "\n",
    "df.drop(columns='Ticket', inplace=True)\n",
    "df_test.drop(columns='Ticket', inplace=True)"
   ]
  },
  {
   "cell_type": "code",
   "execution_count": 597,
   "id": "f69f1d91-ca64-4d4f-9d3c-ae08dbb6c197",
   "metadata": {},
   "outputs": [],
   "source": [
    "Passangers =  ['Mrs', 'Mr', 'Miss', 'Ms', 'Mme', 'Mlle', 'Master']\n",
    "Royals = ['Lady', 'Sir', 'Don', 'Jonkheer', 'Countess', 'Dona']\n",
    "Crews = ['Major', 'Col', 'Rev', 'Capt', 'Dr']\n",
    "\n",
    "df['Title'] = df['Name'].apply(lambda x: x.split('.')[0].split()[-1])\n",
    "df_test['Title'] = df_test['Name'].apply(lambda x: x.split('.')[0].split()[-1])\n",
    "\n",
    "df['Status']= df['Title'].apply(lambda x: 'Passanger' if x in Passangers  else ('Royale' if x in Royals else ('Crew' if x in Crews else 'Missing')))\n",
    "df_test['Status']= df_test['Title'].apply(lambda x: 'Passanger' if x in Passangers  else ('Royale' if x in Royals else ('Crew' if x in Crews else 'Missing')))\n",
    "\n",
    "\n",
    "df.drop(columns='Name', inplace=True)\n",
    "df_test.drop(columns='Name', inplace=True)\n",
    "\n",
    "df.drop(columns='Title', inplace=True)\n",
    "df_test.drop(columns='Title', inplace=True)"
   ]
  },
  {
   "cell_type": "code",
   "execution_count": 598,
   "id": "38d01de9-a993-4a61-afd4-0755eeda8ad2",
   "metadata": {},
   "outputs": [],
   "source": [
    "df['Embarked'].fillna('S', inplace=True)\n",
    "df_test['Fare'].fillna(26.55, inplace=True)"
   ]
  },
  {
   "cell_type": "code",
   "execution_count": 599,
   "id": "7d2d8079-dce7-4193-a11e-e484f4f5ecaf",
   "metadata": {},
   "outputs": [],
   "source": [
    "for i,r in df.iterrows():\n",
    "    if pd.isnull(r['Age']):\n",
    "        df.loc[df.index[i],'Age'] = df[df['Pclass'] == r['Pclass']]['Age'].median()\n",
    "\n",
    "for i,r in df_test.iterrows():\n",
    "    if pd.isnull(r['Age']):\n",
    "        df_test.loc[df_test.index[i],'Age'] = df_test[df_test['Pclass'] == r['Pclass']]['Age'].median()"
   ]
  },
  {
   "cell_type": "code",
   "execution_count": 554,
   "id": "f76ab2eb-4571-4418-9dcb-0f2b8d8c1866",
   "metadata": {},
   "outputs": [],
   "source": [
    "df['Family']=df['Parch']+df['SibSp']+1\n",
    "df_test['Family']=df_test['Parch']+df_test['SibSp']+1"
   ]
  },
  {
   "cell_type": "code",
   "execution_count": 456,
   "id": "98d76c1d-88a8-4a88-ab33-5c5e030245ef",
   "metadata": {},
   "outputs": [],
   "source": [
    "df['Fare']=df['Fare']/df['Family']\n",
    "df_test['Fare']=df_test['Fare']/df_test['Family']"
   ]
  },
  {
   "cell_type": "code",
   "execution_count": 600,
   "id": "7ca85075-b4d0-4e9b-a5ad-78d5e63a9b7a",
   "metadata": {},
   "outputs": [],
   "source": [
    "\"\"\"df.drop(columns='Fare', inplace=True)\n",
    "df_test.drop(columns='Fare', inplace=True)\"\"\"\n",
    "\n",
    "df.drop(columns='Status', inplace=True)\n",
    "df_test.drop(columns='Status', inplace=True)"
   ]
  },
  {
   "cell_type": "code",
   "execution_count": 556,
   "id": "bd75a867-3b96-4e54-8e9d-2bb34b378c52",
   "metadata": {},
   "outputs": [],
   "source": [
    "df['Family'] = pd.cut(df['Family'], bins=[0,1,4,8,15])\n",
    "df_test['Family'] = pd.cut(df_test['Family'], bins=[0,1,4,8,15])\n",
    "\n",
    "arr=[0,5,12,20,30,50,100]\n",
    "df['Age'] = pd.cut(df['Age'], bins=arr)\n",
    "df_test['Age'] = pd.cut(df_test['Age'], bins=arr)"
   ]
  },
  {
   "cell_type": "code",
   "execution_count": 601,
   "id": "6c4c6799-a587-482e-a391-a09d417f926c",
   "metadata": {},
   "outputs": [],
   "source": [
    "df.drop(columns='Age', inplace=True)\n",
    "df_test.drop(columns='Age', inplace=True)"
   ]
  },
  {
   "cell_type": "code",
   "execution_count": 478,
   "id": "e3c9b789-bafe-4764-b679-2af919f11b40",
   "metadata": {},
   "outputs": [],
   "source": [
    "df['Clas_Gender']=df['Pclass'].apply(lambda x: np.exp(x))\n",
    "df_test['Clas_Gender']=df_test['Pclass'].apply(lambda x: np.exp(x))"
   ]
  },
  {
   "cell_type": "code",
   "execution_count": 490,
   "id": "3d8e6113-49f6-4598-b6e1-ae58ef826298",
   "metadata": {},
   "outputs": [],
   "source": [
    "for i,r in df.iterrows():\n",
    "    #df.loc[df.index[i],'Class_Gender']= df.loc[df.index[i],'Pclass']\n",
    "    if(df.loc[df.index[i],'Pclass'] == 1):\n",
    "        pw=3\n",
    "    elif(df.loc[df.index[i],'Pclass'] == 2):\n",
    "        pw=2\n",
    "    else:\n",
    "        pw=1\n",
    "        \n",
    "    if(df.loc[df.index[i],'Sex'] == 1):\n",
    "        no = 10\n",
    "    else:\n",
    "        no = 2\n",
    "        \n",
    "    df.loc[df.index[i],'Clas_Gender'] = np.power( no , pw)\n",
    "\n",
    "for i,r in df_test.iterrows():\n",
    "    #df.loc[df.index[i],'Class_Gender']= df.loc[df.index[i],'Pclass']\n",
    "    if(df_test.loc[df_test.index[i],'Pclass'] == 1):\n",
    "        pw=3\n",
    "    elif(df_test.loc[df_test.index[i],'Pclass'] == 2):\n",
    "        pw=2\n",
    "    else:\n",
    "        pw=1\n",
    "        \n",
    "    if(df_test.loc[df_test.index[i],'Sex'] == 1):\n",
    "        no=10\n",
    "    else:\n",
    "        no =2\n",
    "        \n",
    "    df_test.loc[df_test.index[i],'Clas_Gender'] = np.power(no , pw)"
   ]
  },
  {
   "cell_type": "code",
   "execution_count": 606,
   "id": "387f4204-91ad-4341-94de-c4fe3d677f9e",
   "metadata": {},
   "outputs": [],
   "source": [
    "for label, content in df.items():\n",
    "    if not pd.api.types.is_numeric_dtype(content):\n",
    "        df[label] = content.astype(\"category\").cat.as_ordered()\n",
    "\n",
    "for label, content in df_test.items():\n",
    "    if not pd.api.types.is_numeric_dtype(content):\n",
    "        df_test[label] = content.astype(\"category\").cat.as_ordered()"
   ]
  },
  {
   "cell_type": "code",
   "execution_count": 607,
   "id": "e2bda771-5807-4c0d-a225-2aaa5fc655f9",
   "metadata": {},
   "outputs": [],
   "source": [
    "for label, content in df.items():\n",
    "    if not pd.api.types.is_numeric_dtype(content):\n",
    "            df[label] = pd.Categorical(content).codes\n",
    "\n",
    "for label, content in df_test.items():\n",
    "    if not pd.api.types.is_numeric_dtype(content):\n",
    "            df_test[label] = pd.Categorical(content).codes"
   ]
  },
  {
   "cell_type": "code",
   "execution_count": 572,
   "id": "bac7d8f7-bfd7-4db0-8cf7-9cb09ddc181e",
   "metadata": {},
   "outputs": [],
   "source": [
    "df.drop(columns='Embarked', inplace=True)\n",
    "df_test.drop(columns='Embarked', inplace=True)"
   ]
  },
  {
   "cell_type": "code",
   "execution_count": 579,
   "id": "8fdf0b61-10f3-45fb-a4b7-64319c067b54",
   "metadata": {},
   "outputs": [],
   "source": [
    "df.drop(columns='Parch', inplace=True)\n",
    "df_test.drop(columns='Parch', inplace=True)\n",
    "\n",
    "df.drop(columns='Age', inplace=True)\n",
    "df_test.drop(columns='Age', inplace=True)\n",
    "\n",
    "df.drop(columns='SibSp', inplace=True)\n",
    "df_test.drop(columns='SibSp', inplace=True)\n",
    "\n",
    "df.drop(columns='Family', inplace=True)\n",
    "df_test.drop(columns='Family', inplace=True)"
   ]
  },
  {
   "cell_type": "code",
   "execution_count": 604,
   "id": "cbccf50a-3048-439e-8b46-2094d7fec1b9",
   "metadata": {},
   "outputs": [],
   "source": [
    "df.drop(columns='SibSp', inplace=True)\n",
    "df_test.drop(columns='SibSp', inplace=True)"
   ]
  },
  {
   "cell_type": "code",
   "execution_count": 669,
   "id": "4e3894c2-eb12-4799-b9e3-0d7125d82faf",
   "metadata": {},
   "outputs": [],
   "source": [
    "df['Sex']=df['Sex']*4 + 1\n",
    "df['m']=df['Pclass']*(df['Sex'])\n",
    "\n",
    "df_test['Sex']=df_test['Sex']*4 + 1\n",
    "df_test['m']=df_test['Pclass']*(df_test['Sex'])\n",
    "\n"
   ]
  },
  {
   "cell_type": "code",
   "execution_count": 670,
   "id": "adfb315d-23b8-4326-bbdf-5170ab751d46",
   "metadata": {},
   "outputs": [
    {
     "data": {
      "text/html": [
       "<div>\n",
       "<style scoped>\n",
       "    .dataframe tbody tr th:only-of-type {\n",
       "        vertical-align: middle;\n",
       "    }\n",
       "\n",
       "    .dataframe tbody tr th {\n",
       "        vertical-align: top;\n",
       "    }\n",
       "\n",
       "    .dataframe thead th {\n",
       "        text-align: right;\n",
       "    }\n",
       "</style>\n",
       "<table border=\"1\" class=\"dataframe\">\n",
       "  <thead>\n",
       "    <tr style=\"text-align: right;\">\n",
       "      <th></th>\n",
       "      <th>Survived</th>\n",
       "      <th>Pclass</th>\n",
       "      <th>Sex</th>\n",
       "      <th>Parch</th>\n",
       "      <th>Fare</th>\n",
       "      <th>Embarked</th>\n",
       "      <th>m</th>\n",
       "    </tr>\n",
       "  </thead>\n",
       "  <tbody>\n",
       "    <tr>\n",
       "      <th>0</th>\n",
       "      <td>0</td>\n",
       "      <td>3</td>\n",
       "      <td>5</td>\n",
       "      <td>0</td>\n",
       "      <td>7.2500</td>\n",
       "      <td>2</td>\n",
       "      <td>15</td>\n",
       "    </tr>\n",
       "    <tr>\n",
       "      <th>1</th>\n",
       "      <td>1</td>\n",
       "      <td>1</td>\n",
       "      <td>1</td>\n",
       "      <td>0</td>\n",
       "      <td>71.2833</td>\n",
       "      <td>0</td>\n",
       "      <td>1</td>\n",
       "    </tr>\n",
       "    <tr>\n",
       "      <th>2</th>\n",
       "      <td>1</td>\n",
       "      <td>3</td>\n",
       "      <td>1</td>\n",
       "      <td>0</td>\n",
       "      <td>7.9250</td>\n",
       "      <td>2</td>\n",
       "      <td>3</td>\n",
       "    </tr>\n",
       "    <tr>\n",
       "      <th>3</th>\n",
       "      <td>1</td>\n",
       "      <td>1</td>\n",
       "      <td>1</td>\n",
       "      <td>0</td>\n",
       "      <td>53.1000</td>\n",
       "      <td>2</td>\n",
       "      <td>1</td>\n",
       "    </tr>\n",
       "    <tr>\n",
       "      <th>4</th>\n",
       "      <td>0</td>\n",
       "      <td>3</td>\n",
       "      <td>5</td>\n",
       "      <td>0</td>\n",
       "      <td>8.0500</td>\n",
       "      <td>2</td>\n",
       "      <td>15</td>\n",
       "    </tr>\n",
       "    <tr>\n",
       "      <th>...</th>\n",
       "      <td>...</td>\n",
       "      <td>...</td>\n",
       "      <td>...</td>\n",
       "      <td>...</td>\n",
       "      <td>...</td>\n",
       "      <td>...</td>\n",
       "      <td>...</td>\n",
       "    </tr>\n",
       "    <tr>\n",
       "      <th>886</th>\n",
       "      <td>0</td>\n",
       "      <td>2</td>\n",
       "      <td>5</td>\n",
       "      <td>0</td>\n",
       "      <td>13.0000</td>\n",
       "      <td>2</td>\n",
       "      <td>10</td>\n",
       "    </tr>\n",
       "    <tr>\n",
       "      <th>887</th>\n",
       "      <td>1</td>\n",
       "      <td>1</td>\n",
       "      <td>1</td>\n",
       "      <td>0</td>\n",
       "      <td>30.0000</td>\n",
       "      <td>2</td>\n",
       "      <td>1</td>\n",
       "    </tr>\n",
       "    <tr>\n",
       "      <th>888</th>\n",
       "      <td>0</td>\n",
       "      <td>3</td>\n",
       "      <td>1</td>\n",
       "      <td>2</td>\n",
       "      <td>23.4500</td>\n",
       "      <td>2</td>\n",
       "      <td>3</td>\n",
       "    </tr>\n",
       "    <tr>\n",
       "      <th>889</th>\n",
       "      <td>1</td>\n",
       "      <td>1</td>\n",
       "      <td>5</td>\n",
       "      <td>0</td>\n",
       "      <td>30.0000</td>\n",
       "      <td>0</td>\n",
       "      <td>5</td>\n",
       "    </tr>\n",
       "    <tr>\n",
       "      <th>890</th>\n",
       "      <td>0</td>\n",
       "      <td>3</td>\n",
       "      <td>5</td>\n",
       "      <td>0</td>\n",
       "      <td>7.7500</td>\n",
       "      <td>1</td>\n",
       "      <td>15</td>\n",
       "    </tr>\n",
       "  </tbody>\n",
       "</table>\n",
       "<p>891 rows × 7 columns</p>\n",
       "</div>"
      ],
      "text/plain": [
       "     Survived  Pclass  Sex  Parch     Fare  Embarked   m\n",
       "0           0       3    5      0   7.2500         2  15\n",
       "1           1       1    1      0  71.2833         0   1\n",
       "2           1       3    1      0   7.9250         2   3\n",
       "3           1       1    1      0  53.1000         2   1\n",
       "4           0       3    5      0   8.0500         2  15\n",
       "..        ...     ...  ...    ...      ...       ...  ..\n",
       "886         0       2    5      0  13.0000         2  10\n",
       "887         1       1    1      0  30.0000         2   1\n",
       "888         0       3    1      2  23.4500         2   3\n",
       "889         1       1    5      0  30.0000         0   5\n",
       "890         0       3    5      0   7.7500         1  15\n",
       "\n",
       "[891 rows x 7 columns]"
      ]
     },
     "execution_count": 670,
     "metadata": {},
     "output_type": "execute_result"
    }
   ],
   "source": [
    "df"
   ]
  },
  {
   "cell_type": "code",
   "execution_count": 707,
   "id": "a9b4bda0-fadb-4536-81aa-340550c0f29f",
   "metadata": {},
   "outputs": [],
   "source": [
    "np.random.seed(0)\n",
    "valid = df.sample(n = int(len(df)*0.3))\n",
    "train = df.drop(valid.index)\n",
    "threshold= 0.5"
   ]
  },
  {
   "cell_type": "code",
   "execution_count": 672,
   "id": "e8ca948f-4b8b-4c4a-887a-b9edb4b2eca1",
   "metadata": {},
   "outputs": [],
   "source": [
    "df_X_train, df_Y_train, df_X_test, df_Y_test = prepareData(df,df_test,is_valid = False)\n",
    "X_train, Y_train, X_test, Y_test = prepareData(train,valid,is_valid = True)"
   ]
  },
  {
   "cell_type": "code",
   "execution_count": 710,
   "id": "94e19c2f-ce34-444b-96f1-549e972bbbe4",
   "metadata": {
    "scrolled": true
   },
   "outputs": [
    {
     "name": "stdout",
     "output_type": "stream",
     "text": [
      "(6, 891) (1, 891)\n",
      "Cost after iteration 0: 0.693617\n",
      "Cost after iteration 1000: 0.510621\n",
      "Cost after iteration 2000: 0.461977\n",
      "Cost after iteration 3000: 0.481860\n",
      "Cost after iteration 4000: 0.456919\n",
      "Cost after iteration 5000: 0.448607\n",
      "Cost after iteration 6000: 0.448749\n",
      "Cost after iteration 7000: 0.449719\n",
      "Cost after iteration 8000: 0.444802\n",
      "Cost after iteration 9000: 0.440428\n",
      "Cost after iteration 10000: 0.437956\n",
      "Cost after iteration 11000: 0.438803\n",
      "Cost after iteration 12000: 0.437311\n",
      "Cost after iteration 13000: 0.435999\n",
      "Cost after iteration 14000: 0.432179\n",
      "Cost after iteration 15000: 0.431843\n",
      "Cost after iteration 16000: 0.429296\n",
      "Cost after iteration 17000: 0.427609\n",
      "Cost after iteration 18000: 0.426156\n",
      "Cost after iteration 19000: 0.436360\n",
      "Cost after iteration 20000: 0.445741\n",
      "Cost after iteration 21000: 0.423535\n",
      "Cost after iteration 22000: 0.422528\n",
      "Cost after iteration 23000: 0.423111\n",
      "Cost after iteration 24000: 0.422008\n",
      "Cost after iteration 25000: 0.423845\n",
      "Cost after iteration 26000: 0.420084\n",
      "Cost after iteration 27000: 0.418575\n",
      "Cost after iteration 28000: 0.417014\n",
      "Cost after iteration 29000: 0.416167\n",
      "Cost after iteration 30000: 0.415477\n",
      "Cost after iteration 31000: 0.414856\n",
      "Cost after iteration 32000: 0.414248\n",
      "Cost after iteration 33000: 0.413646\n",
      "Cost after iteration 34000: 0.413068\n",
      "Cost after iteration 35000: 0.412527\n",
      "Cost after iteration 36000: 0.412028\n",
      "Cost after iteration 37000: 0.411564\n",
      "Cost after iteration 38000: 0.411121\n",
      "Cost after iteration 39000: 0.410719\n",
      "Cost after iteration 40000: 0.410354\n",
      "Cost after iteration 41000: 0.410024\n",
      "Cost after iteration 42000: 0.409723\n",
      "Cost after iteration 43000: 0.409453\n",
      "Cost after iteration 44000: 0.409196\n",
      "Cost after iteration 45000: 0.408935\n",
      "Cost after iteration 46000: 0.408686\n",
      "Cost after iteration 47000: 0.408444\n",
      "Cost after iteration 48000: 0.408207\n",
      "Cost after iteration 49000: 0.407970\n"
     ]
    }
   ],
   "source": [
    "parameters = nn_model(df_X_train, df_Y_train,n_h=10, iter_num=50000,lr= 0.025,pr_cost=True)"
   ]
  },
  {
   "cell_type": "code",
   "execution_count": 694,
   "id": "a21b0e45-061f-4d8a-9b5d-56ff14d5f93f",
   "metadata": {
    "scrolled": true
   },
   "outputs": [
    {
     "name": "stdout",
     "output_type": "stream",
     "text": [
      "(6, 624) (1, 624)\n",
      "Cost after iteration 0: 0.693584\n",
      "Cost after iteration 1000: 0.489646\n",
      "Cost after iteration 2000: 0.483552\n",
      "Cost after iteration 3000: 0.485525\n",
      "Cost after iteration 4000: 0.466825\n",
      "Cost after iteration 5000: 0.475655\n",
      "Cost after iteration 6000: 0.475622\n",
      "Cost after iteration 7000: 0.455770\n",
      "Cost after iteration 8000: 0.452399\n",
      "Cost after iteration 9000: 0.448411\n",
      "Cost after iteration 10000: 0.446404\n",
      "Cost after iteration 11000: 0.444311\n",
      "Cost after iteration 12000: 0.451015\n",
      "Cost after iteration 13000: 0.437075\n",
      "Cost after iteration 14000: 0.438656\n",
      "Cost after iteration 15000: 0.451828\n",
      "Cost after iteration 16000: 0.432179\n",
      "Cost after iteration 17000: 0.432398\n",
      "Cost after iteration 18000: 0.429057\n",
      "Cost after iteration 19000: 0.427276\n",
      "Cost after iteration 20000: 0.424918\n",
      "Cost after iteration 21000: 0.423809\n",
      "Cost after iteration 22000: 0.422036\n",
      "Cost after iteration 23000: 0.421264\n",
      "Cost after iteration 24000: 0.419939\n",
      "Cost after iteration 25000: 0.421081\n",
      "Cost after iteration 26000: 0.419713\n",
      "Cost after iteration 27000: 0.416785\n",
      "Cost after iteration 28000: 0.415788\n",
      "Cost after iteration 29000: 0.414967\n",
      "Cost after iteration 30000: 0.414134\n",
      "Cost after iteration 31000: 0.413447\n",
      "Cost after iteration 32000: 0.413165\n",
      "Cost after iteration 33000: 0.412505\n",
      "Cost after iteration 34000: 0.411787\n",
      "Cost after iteration 35000: 0.410026\n",
      "Cost after iteration 36000: 0.409328\n",
      "Cost after iteration 37000: 0.408739\n",
      "Cost after iteration 38000: 0.409296\n",
      "Cost after iteration 39000: 0.407783\n",
      "Cost after iteration 40000: 0.407352\n",
      "Cost after iteration 41000: 0.406949\n",
      "Cost after iteration 42000: 0.406565\n",
      "Cost after iteration 43000: 0.406199\n",
      "Cost after iteration 44000: 0.405847\n",
      "Cost after iteration 45000: 0.405509\n",
      "Cost after iteration 46000: 0.405182\n",
      "Cost after iteration 47000: 0.404863\n",
      "Cost after iteration 48000: 0.404551\n",
      "Cost after iteration 49000: 0.404246\n"
     ]
    }
   ],
   "source": [
    "parameters = nn_model(X_train, Y_train,n_h=10, iter_num=50000,lr= 0.02,pr_cost=True)"
   ]
  },
  {
   "cell_type": "code",
   "execution_count": 695,
   "id": "0e93b435-628c-4ce9-9c8d-5388c6fa5998",
   "metadata": {},
   "outputs": [
    {
     "name": "stdout",
     "output_type": "stream",
     "text": [
      "Accuracy: 82%\n"
     ]
    },
    {
     "name": "stderr",
     "output_type": "stream",
     "text": [
      "C:\\Users\\bgraslan\\AppData\\Local\\Temp\\ipykernel_18888\\620343402.py:2: DeprecationWarning: Conversion of an array with ndim > 0 to a scalar is deprecated, and will error in future. Ensure you extract a single element from your array before performing this operation. (Deprecated NumPy 1.25.)\n",
      "  print ('Accuracy: %d' % float((np.dot(Y_test, predictions.T) + np.dot(1 - Y_test, 1 - predictions.T)) / float(Y_test.size) * 100) + '%')\n"
     ]
    }
   ],
   "source": [
    "predictions = predict(parameters,X_test,threshold)\n",
    "print ('Accuracy: %d' % float((np.dot(Y_test, predictions.T) + np.dot(1 - Y_test, 1 - predictions.T)) / float(Y_test.size) * 100) + '%')"
   ]
  },
  {
   "cell_type": "code",
   "execution_count": 696,
   "id": "1b3732d3-e9fd-41b3-ad22-fd2cdc0bb9b0",
   "metadata": {},
   "outputs": [
    {
     "name": "stdout",
     "output_type": "stream",
     "text": [
      "Accuracy: 81%\n"
     ]
    },
    {
     "name": "stderr",
     "output_type": "stream",
     "text": [
      "C:\\Users\\bgraslan\\AppData\\Local\\Temp\\ipykernel_18888\\702157129.py:2: DeprecationWarning: Conversion of an array with ndim > 0 to a scalar is deprecated, and will error in future. Ensure you extract a single element from your array before performing this operation. (Deprecated NumPy 1.25.)\n",
      "  print ('Accuracy: %d' % float((np.dot(Y_train, predictions.T) + np.dot(1 - Y_train, 1 - predictions.T)) / float(Y_train.size) * 100) + '%')\n"
     ]
    }
   ],
   "source": [
    "predictions = predict(parameters,X_train,threshold)\n",
    "print ('Accuracy: %d' % float((np.dot(Y_train, predictions.T) + np.dot(1 - Y_train, 1 - predictions.T)) / float(Y_train.size) * 100) + '%')"
   ]
  },
  {
   "cell_type": "code",
   "execution_count": 709,
   "id": "e2898d48-102f-4ccf-8c02-b9d9c34b5bae",
   "metadata": {},
   "outputs": [
    {
     "name": "stdout",
     "output_type": "stream",
     "text": [
      "Accuracy: 81%\n"
     ]
    },
    {
     "name": "stderr",
     "output_type": "stream",
     "text": [
      "C:\\Users\\bgraslan\\AppData\\Local\\Temp\\ipykernel_18888\\1021066480.py:2: DeprecationWarning: Conversion of an array with ndim > 0 to a scalar is deprecated, and will error in future. Ensure you extract a single element from your array before performing this operation. (Deprecated NumPy 1.25.)\n",
      "  print ('Accuracy: %d' % float((np.dot(df_Y_train, predictions.T) + np.dot(1 - df_Y_train, 1 - predictions.T)) / float(df_Y_train.size) * 100) + '%')\n"
     ]
    }
   ],
   "source": [
    "predictions = predict(parameters, df_X_train,threshold)\n",
    "print ('Accuracy: %d' % float((np.dot(df_Y_train, predictions.T) + np.dot(1 - df_Y_train, 1 - predictions.T)) / float(df_Y_train.size) * 100) + '%')"
   ]
  },
  {
   "cell_type": "code",
   "execution_count": 703,
   "id": "5f0300e1-e580-43ab-97eb-7dd7530104b1",
   "metadata": {},
   "outputs": [],
   "source": [
    "predictions = predict(parameters, df_X_test,threshold)"
   ]
  },
  {
   "cell_type": "code",
   "execution_count": 704,
   "id": "fccdec4d-eede-426b-8664-25ec2ff7389d",
   "metadata": {},
   "outputs": [],
   "source": [
    "predictions = predictions.astype(int)"
   ]
  },
  {
   "cell_type": "code",
   "execution_count": 705,
   "id": "7a10f1e1-21b9-4536-a056-8e499b1d6d7d",
   "metadata": {},
   "outputs": [],
   "source": [
    "write= pd.read_csv(\"Data/test.csv\")\n",
    "result=pd.DataFrame({\"PassengerId\":write['PassengerId'],\"Survived\":predictions[0]})\n",
    "result.to_csv(\"resultNN.csv\", index=False)"
   ]
  },
  {
   "cell_type": "code",
   "execution_count": 706,
   "id": "931fd01a-b9a6-4f55-9c22-77abd405ed18",
   "metadata": {},
   "outputs": [
    {
     "data": {
      "text/plain": [
       "array([[0, 0, 0, 0, 1, 0, 1, 0, 1, 0, 0, 0, 1, 0, 1, 1, 0, 0, 0, 1, 1, 0,\n",
       "        1, 1, 1, 0, 1, 0, 0, 0, 0, 0, 0, 0, 1, 0, 0, 0, 0, 0, 0, 0, 0, 1,\n",
       "        1, 0, 0, 0, 1, 1, 0, 0, 1, 1, 0, 0, 0, 0, 0, 1, 0, 0, 0, 1, 0, 1,\n",
       "        1, 0, 0, 1, 1, 0, 0, 0, 1, 0, 0, 1, 0, 1, 0, 0, 0, 0, 0, 0, 1, 0,\n",
       "        1, 0, 1, 0, 1, 0, 0, 0, 1, 0, 0, 0, 1, 0, 0, 0, 1, 0, 0, 0, 0, 0,\n",
       "        0, 1, 1, 1, 1, 0, 0, 1, 1, 1, 1, 0, 1, 0, 0, 1, 0, 1, 0, 0, 0, 0,\n",
       "        0, 0, 0, 0, 0, 0, 0, 0, 0, 1, 0, 0, 0, 0, 0, 0, 0, 0, 1, 0, 0, 1,\n",
       "        0, 0, 1, 0, 0, 1, 1, 0, 1, 0, 0, 0, 0, 0, 1, 0, 0, 0, 0, 0, 0, 1,\n",
       "        1, 0, 1, 1, 0, 1, 1, 0, 1, 0, 1, 0, 0, 0, 0, 0, 0, 0, 0, 0, 0, 0,\n",
       "        0, 0, 1, 0, 0, 1, 0, 0, 1, 0, 1, 0, 0, 0, 0, 1, 1, 0, 1, 0, 1, 0,\n",
       "        1, 0, 1, 0, 1, 0, 0, 1, 0, 0, 0, 1, 0, 0, 1, 0, 1, 0, 1, 1, 1, 1,\n",
       "        0, 0, 0, 0, 1, 0, 1, 1, 1, 0, 0, 0, 0, 0, 0, 0, 1, 0, 0, 0, 1, 1,\n",
       "        0, 0, 0, 0, 0, 0, 1, 0, 1, 1, 0, 1, 0, 0, 0, 0, 0, 0, 1, 1, 0, 0,\n",
       "        0, 0, 0, 0, 0, 1, 0, 0, 0, 0, 1, 0, 0, 0, 0, 0, 0, 0, 1, 1, 0, 0,\n",
       "        0, 1, 0, 0, 0, 1, 1, 1, 0, 0, 0, 0, 0, 0, 0, 0, 1, 0, 1, 1, 0, 0,\n",
       "        1, 0, 0, 1, 0, 0, 0, 0, 0, 0, 0, 0, 0, 1, 0, 0, 0, 1, 0, 1, 1, 0,\n",
       "        0, 0, 0, 0, 1, 0, 0, 1, 0, 1, 1, 0, 1, 1, 0, 0, 1, 0, 0, 1, 0, 0,\n",
       "        1, 1, 0, 0, 0, 0, 0, 0, 1, 1, 0, 1, 0, 0, 0, 0, 0, 1, 0, 0, 0, 1,\n",
       "        0, 1, 0, 0, 1, 0, 1, 0, 0, 0, 0, 0, 1, 1, 1, 1, 0, 0, 1, 0, 0, 0]])"
      ]
     },
     "execution_count": 706,
     "metadata": {},
     "output_type": "execute_result"
    }
   ],
   "source": [
    "predictions"
   ]
  },
  {
   "cell_type": "code",
   "execution_count": null,
   "id": "9b4d22a1-4b0c-4b12-a7a0-8d62172707e3",
   "metadata": {},
   "outputs": [],
   "source": []
  }
 ],
 "metadata": {
  "kernelspec": {
   "display_name": "Python 3 (ipykernel)",
   "language": "python",
   "name": "python3"
  },
  "language_info": {
   "codemirror_mode": {
    "name": "ipython",
    "version": 3
   },
   "file_extension": ".py",
   "mimetype": "text/x-python",
   "name": "python",
   "nbconvert_exporter": "python",
   "pygments_lexer": "ipython3",
   "version": "3.11.7"
  }
 },
 "nbformat": 4,
 "nbformat_minor": 5
}
