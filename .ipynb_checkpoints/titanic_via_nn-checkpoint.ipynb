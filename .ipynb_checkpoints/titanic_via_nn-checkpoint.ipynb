{
 "cells": [
  {
   "cell_type": "code",
   "execution_count": 25,
   "id": "4a8ff815-1ad7-4015-96ae-fd0cac0a08c9",
   "metadata": {},
   "outputs": [],
   "source": [
    "import pandas as pd\n",
    "import numpy as np\n",
    "import matplotlib.pyplot as plt\n",
    "np.random.seed(42)"
   ]
  },
  {
   "cell_type": "code",
   "execution_count": 3,
   "id": "2939efde-e553-4f2c-93f5-6a224df9cf67",
   "metadata": {},
   "outputs": [],
   "source": [
    "def init_params(n_x, n_h, n_y):\n",
    "    W1 = np.random.randn(n_h,n_x)*0.01\n",
    "    b1 = np.zeros((n_h,1))\n",
    "    W2 = np.random.randn(n_y,n_h)*0.01\n",
    "    b2 = np.zeros((n_y,1))\n",
    "\n",
    "    parameters = {\"W1\": W1, \"b1\": b2, \"W2\": W2, \"b2\": b2}\n",
    "\n",
    "    return parameters"
   ]
  },
  {
   "cell_type": "code",
   "execution_count": 4,
   "id": "a60ea1db-a7f6-4e50-ac30-5a2d982a02f7",
   "metadata": {},
   "outputs": [],
   "source": [
    "def forward(X, parameters):\n",
    "    W1 = parameters['W1']\n",
    "    W2 = parameters['W2']\n",
    "    b1 = parameters['b1']\n",
    "    b2 = parameters['b2']\n",
    "\n",
    "    Z1 = np.dot(W1,X) + b1\n",
    "    A1 = np.tanh(Z1)\n",
    "    Z2 = np.dot(W2, A1) + b2\n",
    "    A2 = 1/(1 + np.exp(-Z2))\n",
    "\n",
    "    #print(A2.shape)\n",
    "    cache = {\"Z1\": Z1, \"A1\": A1, \"Z2\": Z2, \"A2\":A2}\n",
    "    return A2, cache"
   ]
  },
  {
   "cell_type": "code",
   "execution_count": 5,
   "id": "813116da-6395-48a0-9e31-4958f49a00c8",
   "metadata": {},
   "outputs": [],
   "source": [
    "def cost(A2, Y):\n",
    "    m = Y.shape[1]\n",
    "\n",
    "    cost = np.dot((Y*np.log(A2) + (1-Y)*np.log(1-A2)), np.ones((m,1)))*(-1/m)\n",
    "    cost = float(np.squeeze(cost))\n",
    "    return cost"
   ]
  },
  {
   "cell_type": "code",
   "execution_count": 6,
   "id": "ff8b89f6-8fea-4968-ae4f-6a3f81ccf12b",
   "metadata": {},
   "outputs": [],
   "source": [
    "def backward(parameters, cache, X, Y):\n",
    "    m = X.shape[1]\n",
    "    W1 = parameters['W1']\n",
    "    W2 = parameters['W2']\n",
    "    A1 = cache['A1']\n",
    "    A2 = cache['A2']\n",
    "    \n",
    "    dZ2 = A2 - Y\n",
    "    dW2 = np.dot(dZ2, A1.T)/m\n",
    "    db2 = np.sum(dZ2, axis = 1, keepdims = True)/m\n",
    "    dZ1 = np.dot(W2.T, dZ2)*(1 - np.power(A1,2))\n",
    "    dW1 = np.dot(dZ1, X.T)/m\n",
    "    db1 = np.sum(dZ1, axis = 1, keepdims = True)/m\n",
    "\n",
    "    grads = {\"dW1\": dW1, \"db1\": db1, \"dW2\": dW2, \"db2\": db2}\n",
    "    return grads\n"
   ]
  },
  {
   "cell_type": "code",
   "execution_count": 7,
   "id": "829938e1-ed2c-450c-acf0-45dec980fab2",
   "metadata": {},
   "outputs": [],
   "source": [
    "def update(parameters, grads, learning_rate = 0.001):\n",
    "    W1 = copy.deepcopy(parameters['W1'])\n",
    "    b1 = copy.deepcopy(parameters['b1'])\n",
    "    W2 = copy.deepcopy(parameters['W2'])\n",
    "    b2 = copy.deepcopy(parameters['b2'])\n",
    "\n",
    "    dW1 = copy.deepcopy(grads['dW1'])\n",
    "    db1 = copy.deepcopy(grads['db1'])\n",
    "    dW2 = copy.deepcopy(grads['dW2'])\n",
    "    db2 = copy.deepcopy(grads['db2'])\n",
    "\n",
    "    W1 = W1 - learning_rate*dW1\n",
    "    b1 = b1 - learning_rate*db1\n",
    "    W2 = W2 - learning_rate*dW2\n",
    "    b2 = b2 - learning_rate*db2\n",
    "\n",
    "    parameters = {\"W1\": W1, \"b1\": b1, \"W2\": W2, \"b2\": b2}\n",
    "    return parameters"
   ]
  },
  {
   "cell_type": "code",
   "execution_count": 52,
   "id": "8362f9b6-aa28-450d-b727-d0d727fc1cfb",
   "metadata": {},
   "outputs": [],
   "source": [
    "def nn_model(X,Y,n_h, iter_num=10000,lr = 0.001 , pr_cost = False):\n",
    "    np.random.seed(42)\n",
    "    n_x = X.shape[0]\n",
    "    n_y = Y.shape[0]\n",
    "    print(n_x,n_y)\n",
    "    parameters = init_params(n_x, n_h, n_y)\n",
    "    print(parameters['b1'].shape)\n",
    "    for i in range(0,iter_num):\n",
    "        A2, cache = forward(X, parameters)\n",
    "        cost = cost(A2,Y)\n",
    "        grads = backward(parameters, cache, X, Y)\n",
    "        parameters = update(parameters, grads, learning_rate = lr)\n",
    "        if pr_cost and i % 1000 == 0:\n",
    "            print (\"Cost after iteration %i: %f\" %(i, cost))\n",
    "\n",
    "    return parameters"
   ]
  },
  {
   "cell_type": "code",
   "execution_count": 41,
   "id": "feba0459-24d3-4743-a9a4-db0550ec2f2d",
   "metadata": {},
   "outputs": [],
   "source": [
    "def prepareData(df,df_test,is_valid = True):\n",
    "    train = df.copy()\n",
    "    test = df_test.copy()\n",
    "    for label,content in train.items():\n",
    "        max=train[label].max()\n",
    "        train[label]=train[label].apply(lambda x: x/max)\n",
    "\n",
    "    for label,content in test.items():\n",
    "        max=test[label].max()\n",
    "        test[label]=test[label].apply(lambda x: x/max)\n",
    "    \n",
    "    X_train= train.drop('Survived', axis=1)\n",
    "    y_train= train.Survived.values\n",
    "\n",
    "    if is_valid:\n",
    "        X_test = test.drop('Survived', axis=1)\n",
    "        y_test = test.Survived.values\n",
    "        return X_train.T, y_train.T, X_test.T, y_test.T\n",
    "    else:\n",
    "        \n",
    "        return X_train.T, y_train.T, test, np.array([0])"
   ]
  },
  {
   "cell_type": "code",
   "execution_count": 10,
   "id": "834e4660-9001-480e-882f-ffc19cef8da3",
   "metadata": {},
   "outputs": [],
   "source": [
    "df = pd.read_csv('Data/train.csv')\n",
    "df_test = pd.read_csv('Data/test.csv')"
   ]
  },
  {
   "cell_type": "code",
   "execution_count": 11,
   "id": "aaf2ccff-de34-4a6b-a4d1-927f2a36214c",
   "metadata": {},
   "outputs": [],
   "source": [
    "df.drop(columns='PassengerId', inplace=True)\n",
    "df_test.drop(columns='PassengerId', inplace=True)\n",
    "\n",
    "df.drop(columns='Cabin', inplace=True)\n",
    "df_test.drop(columns='Cabin', inplace=True)"
   ]
  },
  {
   "cell_type": "code",
   "execution_count": 12,
   "id": "d0efc27b-53fa-4ef1-b420-6818c3bc7e75",
   "metadata": {},
   "outputs": [],
   "source": [
    "Passangers =  ['Mrs', 'Mr', 'Miss', 'Ms', 'Mme', 'Mlle', 'Master']\n",
    "Royals = ['Lady', 'Sir', 'Don', 'Jonkheer', 'Countess', 'Dona']\n",
    "Crews = ['Major', 'Col', 'Rev', 'Capt', 'Dr']\n",
    "\n",
    "df['Title'] = df['Name'].apply(lambda x: x.split('.')[0].split()[-1])\n",
    "df_test['Title'] = df_test['Name'].apply(lambda x: x.split('.')[0].split()[-1])\n",
    "\n",
    "df['Status']= df['Title'].apply(lambda x: 'Passanger' if x in Passangers  else ('Royale' if x in Royals else ('Crew' if x in Crews else 'Missing')))\n",
    "df_test['Status']= df_test['Title'].apply(lambda x: 'Passanger' if x in Passangers  else ('Royale' if x in Royals else ('Crew' if x in Crews else 'Missing')))\n",
    "\n",
    "\n",
    "df.drop(columns='Name', inplace=True)\n",
    "df_test.drop(columns='Name', inplace=True)\n",
    "\n",
    "df.drop(columns='Title', inplace=True)\n",
    "df_test.drop(columns='Title', inplace=True)"
   ]
  },
  {
   "cell_type": "code",
   "execution_count": 13,
   "id": "63878a4e-be0e-4a5f-8e02-c31b66a48fe0",
   "metadata": {},
   "outputs": [],
   "source": [
    "df['Family']=df['Parch']+df['SibSp']+1\n",
    "df_test['Family']=df_test['Parch']+df_test['SibSp']+1"
   ]
  },
  {
   "cell_type": "code",
   "execution_count": 14,
   "id": "0ed16958-aa73-47de-915c-5677f77700c8",
   "metadata": {},
   "outputs": [],
   "source": [
    "df['Embarked'].fillna('S', inplace=True)\n",
    "df_test['Fare'].fillna(26.55, inplace=True)\n",
    "\n",
    "for i,r in df.iterrows():\n",
    "    if pd.isnull(r['Age']):\n",
    "        df.loc[df.index[i],'Age'] = df[df['Pclass'] == r['Pclass']]['Age'].median()\n",
    "\n",
    "for i,r in df_test.iterrows():\n",
    "    if pd.isnull(r['Age']):\n",
    "        df_test.loc[df_test.index[i],'Age'] = df_test[df_test['Pclass'] == r['Pclass']]['Age'].median()"
   ]
  },
  {
   "cell_type": "code",
   "execution_count": 15,
   "id": "aedd0e42-4909-4a9f-b639-f64cd991308a",
   "metadata": {},
   "outputs": [],
   "source": [
    "df['Fare']=df['Fare']/df['Family']\n",
    "df_test['Fare']=df_test['Fare']/df_test['Family']"
   ]
  },
  {
   "cell_type": "code",
   "execution_count": 16,
   "id": "cab1dc42-4bd4-47ed-872f-a244c5e6c8d8",
   "metadata": {},
   "outputs": [],
   "source": [
    "df.drop(columns='Fare', inplace=True)\n",
    "df_test.drop(columns='Fare', inplace=True)"
   ]
  },
  {
   "cell_type": "code",
   "execution_count": 17,
   "id": "1a89ea89-b81e-40bb-835d-90d417cf0a68",
   "metadata": {},
   "outputs": [],
   "source": [
    "df['Family'] = pd.cut(df['Family'], bins=[0,1,4,8,15])\n",
    "df_test['Family'] = pd.cut(df_test['Family'], bins=[0,1,4,8,15])"
   ]
  },
  {
   "cell_type": "code",
   "execution_count": 18,
   "id": "387f4204-91ad-4341-94de-c4fe3d677f9e",
   "metadata": {},
   "outputs": [
    {
     "data": {
      "text/html": [
       "<div>\n",
       "<style scoped>\n",
       "    .dataframe tbody tr th:only-of-type {\n",
       "        vertical-align: middle;\n",
       "    }\n",
       "\n",
       "    .dataframe tbody tr th {\n",
       "        vertical-align: top;\n",
       "    }\n",
       "\n",
       "    .dataframe thead th {\n",
       "        text-align: right;\n",
       "    }\n",
       "</style>\n",
       "<table border=\"1\" class=\"dataframe\">\n",
       "  <thead>\n",
       "    <tr style=\"text-align: right;\">\n",
       "      <th></th>\n",
       "      <th>Survived</th>\n",
       "      <th>Pclass</th>\n",
       "      <th>Sex</th>\n",
       "      <th>Age</th>\n",
       "      <th>SibSp</th>\n",
       "      <th>Parch</th>\n",
       "      <th>Ticket</th>\n",
       "      <th>Embarked</th>\n",
       "      <th>Status</th>\n",
       "      <th>Family</th>\n",
       "    </tr>\n",
       "  </thead>\n",
       "  <tbody>\n",
       "    <tr>\n",
       "      <th>0</th>\n",
       "      <td>0</td>\n",
       "      <td>3</td>\n",
       "      <td>male</td>\n",
       "      <td>22.0</td>\n",
       "      <td>1</td>\n",
       "      <td>0</td>\n",
       "      <td>A/5 21171</td>\n",
       "      <td>S</td>\n",
       "      <td>Passanger</td>\n",
       "      <td>(1, 4]</td>\n",
       "    </tr>\n",
       "    <tr>\n",
       "      <th>1</th>\n",
       "      <td>1</td>\n",
       "      <td>1</td>\n",
       "      <td>female</td>\n",
       "      <td>38.0</td>\n",
       "      <td>1</td>\n",
       "      <td>0</td>\n",
       "      <td>PC 17599</td>\n",
       "      <td>C</td>\n",
       "      <td>Passanger</td>\n",
       "      <td>(1, 4]</td>\n",
       "    </tr>\n",
       "    <tr>\n",
       "      <th>2</th>\n",
       "      <td>1</td>\n",
       "      <td>3</td>\n",
       "      <td>female</td>\n",
       "      <td>26.0</td>\n",
       "      <td>0</td>\n",
       "      <td>0</td>\n",
       "      <td>STON/O2. 3101282</td>\n",
       "      <td>S</td>\n",
       "      <td>Passanger</td>\n",
       "      <td>(0, 1]</td>\n",
       "    </tr>\n",
       "    <tr>\n",
       "      <th>3</th>\n",
       "      <td>1</td>\n",
       "      <td>1</td>\n",
       "      <td>female</td>\n",
       "      <td>35.0</td>\n",
       "      <td>1</td>\n",
       "      <td>0</td>\n",
       "      <td>113803</td>\n",
       "      <td>S</td>\n",
       "      <td>Passanger</td>\n",
       "      <td>(1, 4]</td>\n",
       "    </tr>\n",
       "    <tr>\n",
       "      <th>4</th>\n",
       "      <td>0</td>\n",
       "      <td>3</td>\n",
       "      <td>male</td>\n",
       "      <td>35.0</td>\n",
       "      <td>0</td>\n",
       "      <td>0</td>\n",
       "      <td>373450</td>\n",
       "      <td>S</td>\n",
       "      <td>Passanger</td>\n",
       "      <td>(0, 1]</td>\n",
       "    </tr>\n",
       "    <tr>\n",
       "      <th>...</th>\n",
       "      <td>...</td>\n",
       "      <td>...</td>\n",
       "      <td>...</td>\n",
       "      <td>...</td>\n",
       "      <td>...</td>\n",
       "      <td>...</td>\n",
       "      <td>...</td>\n",
       "      <td>...</td>\n",
       "      <td>...</td>\n",
       "      <td>...</td>\n",
       "    </tr>\n",
       "    <tr>\n",
       "      <th>886</th>\n",
       "      <td>0</td>\n",
       "      <td>2</td>\n",
       "      <td>male</td>\n",
       "      <td>27.0</td>\n",
       "      <td>0</td>\n",
       "      <td>0</td>\n",
       "      <td>211536</td>\n",
       "      <td>S</td>\n",
       "      <td>Crew</td>\n",
       "      <td>(0, 1]</td>\n",
       "    </tr>\n",
       "    <tr>\n",
       "      <th>887</th>\n",
       "      <td>1</td>\n",
       "      <td>1</td>\n",
       "      <td>female</td>\n",
       "      <td>19.0</td>\n",
       "      <td>0</td>\n",
       "      <td>0</td>\n",
       "      <td>112053</td>\n",
       "      <td>S</td>\n",
       "      <td>Passanger</td>\n",
       "      <td>(0, 1]</td>\n",
       "    </tr>\n",
       "    <tr>\n",
       "      <th>888</th>\n",
       "      <td>0</td>\n",
       "      <td>3</td>\n",
       "      <td>female</td>\n",
       "      <td>24.0</td>\n",
       "      <td>1</td>\n",
       "      <td>2</td>\n",
       "      <td>W./C. 6607</td>\n",
       "      <td>S</td>\n",
       "      <td>Passanger</td>\n",
       "      <td>(1, 4]</td>\n",
       "    </tr>\n",
       "    <tr>\n",
       "      <th>889</th>\n",
       "      <td>1</td>\n",
       "      <td>1</td>\n",
       "      <td>male</td>\n",
       "      <td>26.0</td>\n",
       "      <td>0</td>\n",
       "      <td>0</td>\n",
       "      <td>111369</td>\n",
       "      <td>C</td>\n",
       "      <td>Passanger</td>\n",
       "      <td>(0, 1]</td>\n",
       "    </tr>\n",
       "    <tr>\n",
       "      <th>890</th>\n",
       "      <td>0</td>\n",
       "      <td>3</td>\n",
       "      <td>male</td>\n",
       "      <td>32.0</td>\n",
       "      <td>0</td>\n",
       "      <td>0</td>\n",
       "      <td>370376</td>\n",
       "      <td>Q</td>\n",
       "      <td>Passanger</td>\n",
       "      <td>(0, 1]</td>\n",
       "    </tr>\n",
       "  </tbody>\n",
       "</table>\n",
       "<p>891 rows × 10 columns</p>\n",
       "</div>"
      ],
      "text/plain": [
       "     Survived  Pclass     Sex   Age  SibSp  Parch            Ticket Embarked  \\\n",
       "0           0       3    male  22.0      1      0         A/5 21171        S   \n",
       "1           1       1  female  38.0      1      0          PC 17599        C   \n",
       "2           1       3  female  26.0      0      0  STON/O2. 3101282        S   \n",
       "3           1       1  female  35.0      1      0            113803        S   \n",
       "4           0       3    male  35.0      0      0            373450        S   \n",
       "..        ...     ...     ...   ...    ...    ...               ...      ...   \n",
       "886         0       2    male  27.0      0      0            211536        S   \n",
       "887         1       1  female  19.0      0      0            112053        S   \n",
       "888         0       3  female  24.0      1      2        W./C. 6607        S   \n",
       "889         1       1    male  26.0      0      0            111369        C   \n",
       "890         0       3    male  32.0      0      0            370376        Q   \n",
       "\n",
       "        Status  Family  \n",
       "0    Passanger  (1, 4]  \n",
       "1    Passanger  (1, 4]  \n",
       "2    Passanger  (0, 1]  \n",
       "3    Passanger  (1, 4]  \n",
       "4    Passanger  (0, 1]  \n",
       "..         ...     ...  \n",
       "886       Crew  (0, 1]  \n",
       "887  Passanger  (0, 1]  \n",
       "888  Passanger  (1, 4]  \n",
       "889  Passanger  (0, 1]  \n",
       "890  Passanger  (0, 1]  \n",
       "\n",
       "[891 rows x 10 columns]"
      ]
     },
     "execution_count": 18,
     "metadata": {},
     "output_type": "execute_result"
    }
   ],
   "source": [
    "df"
   ]
  },
  {
   "cell_type": "code",
   "execution_count": 19,
   "id": "68b2a953-a4f8-4251-af70-643449b2ae2c",
   "metadata": {},
   "outputs": [],
   "source": [
    "for label, content in df.items():\n",
    "    if not pd.api.types.is_numeric_dtype(content):\n",
    "        df[label] = content.astype(\"category\").cat.as_ordered()\n",
    "\n",
    "for label, content in df_test.items():\n",
    "    if not pd.api.types.is_numeric_dtype(content):\n",
    "        df_test[label] = content.astype(\"category\").cat.as_ordered()"
   ]
  },
  {
   "cell_type": "code",
   "execution_count": 20,
   "id": "84660661-24b0-47ac-81a3-e7e34b5ed520",
   "metadata": {},
   "outputs": [],
   "source": [
    "for label, content in df.items():\n",
    "    if not pd.api.types.is_numeric_dtype(content):\n",
    "            df[label] = pd.Categorical(content).codes\n",
    "\n",
    "for label, content in df_test.items():\n",
    "    if not pd.api.types.is_numeric_dtype(content):\n",
    "            df_test[label] = pd.Categorical(content).codes"
   ]
  },
  {
   "cell_type": "code",
   "execution_count": 21,
   "id": "133e7f0e-8e93-4848-984b-0eac6c696817",
   "metadata": {},
   "outputs": [],
   "source": [
    "df['Clas_Gender']=df['Pclass'].apply(lambda x: np.exp(x))\n",
    "df_test['Clas_Gender']=df_test['Pclass'].apply(lambda x: np.exp(x))"
   ]
  },
  {
   "cell_type": "code",
   "execution_count": 22,
   "id": "37f01d34-c6cd-4a78-be54-2e19a41770c4",
   "metadata": {},
   "outputs": [],
   "source": [
    "for i,r in df.iterrows():\n",
    "    #df.loc[df.index[i],'Class_Gender']= df.loc[df.index[i],'Pclass']\n",
    "    if(df.loc[df.index[i],'Pclass'] == 1):\n",
    "        pw=3\n",
    "    elif(df.loc[df.index[i],'Pclass'] == 2):\n",
    "        pw=2\n",
    "    else:\n",
    "        pw=1\n",
    "        \n",
    "    if(df.loc[df.index[i],'Sex'] == 1):\n",
    "        no = 50\n",
    "    else:\n",
    "        no = 3\n",
    "        \n",
    "    df.loc[df.index[i],'Clas_Gender'] = np.power( no , pw)\n",
    "\n",
    "for i,r in df_test.iterrows():\n",
    "    #df.loc[df.index[i],'Class_Gender']= df.loc[df.index[i],'Pclass']\n",
    "    if(df_test.loc[df_test.index[i],'Pclass'] == 1):\n",
    "        pw=3\n",
    "    elif(df_test.loc[df_test.index[i],'Pclass'] == 2):\n",
    "        pw=2\n",
    "    else:\n",
    "        pw=1\n",
    "        \n",
    "    if(df_test.loc[df_test.index[i],'Sex'] == 1):\n",
    "        no=50\n",
    "    else:\n",
    "        no =3\n",
    "        \n",
    "    df_test.loc[df_test.index[i],'Clas_Gender'] = np.power( no , pw)"
   ]
  },
  {
   "cell_type": "code",
   "execution_count": 23,
   "id": "d4d7622c-d2ee-4bee-9998-4d8d462053ce",
   "metadata": {},
   "outputs": [],
   "source": [
    "df.drop(columns='Ticket', inplace=True)\n",
    "df_test.drop(columns='Ticket', inplace=True)"
   ]
  },
  {
   "cell_type": "code",
   "execution_count": 26,
   "id": "a9b4bda0-fadb-4536-81aa-340550c0f29f",
   "metadata": {},
   "outputs": [],
   "source": [
    "valid = df.sample(n = int(len(df)*0.2))\n",
    "train = df.drop(valid.index)"
   ]
  },
  {
   "cell_type": "code",
   "execution_count": 42,
   "id": "e8ca948f-4b8b-4c4a-887a-b9edb4b2eca1",
   "metadata": {},
   "outputs": [],
   "source": [
    "df_X_train, df_Y_train, df_X_test, df_Y_test = prepareData(df,df_test,is_valid = False)\n",
    "X_train, Y_train, X_test, Y_test = prepareData(train,valid,is_valid = True)"
   ]
  },
  {
   "cell_type": "code",
   "execution_count": 49,
   "id": "94e19c2f-ce34-444b-96f1-549e972bbbe4",
   "metadata": {},
   "outputs": [
    {
     "data": {
      "text/plain": [
       "9"
      ]
     },
     "execution_count": 49,
     "metadata": {},
     "output_type": "execute_result"
    }
   ],
   "source": [
    "X_train.shape[0]"
   ]
  },
  {
   "cell_type": "code",
   "execution_count": 53,
   "id": "a21b0e45-061f-4d8a-9b5d-56ff14d5f93f",
   "metadata": {},
   "outputs": [
    {
     "name": "stdout",
     "output_type": "stream",
     "text": [
      "9 713\n",
      "(4, 9)\n"
     ]
    },
    {
     "ename": "ValueError",
     "evalue": "operands could not be broadcast together with shapes (4,713) (713,1) ",
     "output_type": "error",
     "traceback": [
      "\u001b[1;31m---------------------------------------------------------------------------\u001b[0m",
      "\u001b[1;31mValueError\u001b[0m                                Traceback (most recent call last)",
      "Cell \u001b[1;32mIn[53], line 1\u001b[0m\n\u001b[1;32m----> 1\u001b[0m parameters \u001b[38;5;241m=\u001b[39m nn_model(X_train, Y_train,n_h\u001b[38;5;241m=\u001b[39m\u001b[38;5;241m4\u001b[39m, pr_cost\u001b[38;5;241m=\u001b[39m\u001b[38;5;28;01mTrue\u001b[39;00m)\n",
      "Cell \u001b[1;32mIn[52], line 9\u001b[0m, in \u001b[0;36mnn_model\u001b[1;34m(X, Y, n_h, iter_num, lr, pr_cost)\u001b[0m\n\u001b[0;32m      7\u001b[0m \u001b[38;5;28mprint\u001b[39m(parameters[\u001b[38;5;124m'\u001b[39m\u001b[38;5;124mW1\u001b[39m\u001b[38;5;124m'\u001b[39m]\u001b[38;5;241m.\u001b[39mshape)\n\u001b[0;32m      8\u001b[0m \u001b[38;5;28;01mfor\u001b[39;00m i \u001b[38;5;129;01min\u001b[39;00m \u001b[38;5;28mrange\u001b[39m(\u001b[38;5;241m0\u001b[39m,iter_num):\n\u001b[1;32m----> 9\u001b[0m     A2, cache \u001b[38;5;241m=\u001b[39m forward(X, parameters)\n\u001b[0;32m     10\u001b[0m     cost \u001b[38;5;241m=\u001b[39m cost(A2,Y)\n\u001b[0;32m     11\u001b[0m     grads \u001b[38;5;241m=\u001b[39m backward(parameters, cache, X, Y)\n",
      "Cell \u001b[1;32mIn[4], line 7\u001b[0m, in \u001b[0;36mforward\u001b[1;34m(X, parameters)\u001b[0m\n\u001b[0;32m      4\u001b[0m b1 \u001b[38;5;241m=\u001b[39m parameters[\u001b[38;5;124m'\u001b[39m\u001b[38;5;124mb1\u001b[39m\u001b[38;5;124m'\u001b[39m]\n\u001b[0;32m      5\u001b[0m b2 \u001b[38;5;241m=\u001b[39m parameters[\u001b[38;5;124m'\u001b[39m\u001b[38;5;124mb2\u001b[39m\u001b[38;5;124m'\u001b[39m]\n\u001b[1;32m----> 7\u001b[0m Z1 \u001b[38;5;241m=\u001b[39m np\u001b[38;5;241m.\u001b[39mdot(W1,X) \u001b[38;5;241m+\u001b[39m b1\n\u001b[0;32m      8\u001b[0m A1 \u001b[38;5;241m=\u001b[39m np\u001b[38;5;241m.\u001b[39mtanh(Z1)\n\u001b[0;32m      9\u001b[0m Z2 \u001b[38;5;241m=\u001b[39m np\u001b[38;5;241m.\u001b[39mdot(W2, A1) \u001b[38;5;241m+\u001b[39m b2\n",
      "\u001b[1;31mValueError\u001b[0m: operands could not be broadcast together with shapes (4,713) (713,1) "
     ]
    }
   ],
   "source": [
    "parameters = nn_model(X_train, Y_train,n_h=4, pr_cost=True)"
   ]
  },
  {
   "cell_type": "code",
   "execution_count": null,
   "id": "0e93b435-628c-4ce9-9c8d-5388c6fa5998",
   "metadata": {},
   "outputs": [],
   "source": []
  }
 ],
 "metadata": {
  "kernelspec": {
   "display_name": "Python 3 (ipykernel)",
   "language": "python",
   "name": "python3"
  },
  "language_info": {
   "codemirror_mode": {
    "name": "ipython",
    "version": 3
   },
   "file_extension": ".py",
   "mimetype": "text/x-python",
   "name": "python",
   "nbconvert_exporter": "python",
   "pygments_lexer": "ipython3",
   "version": "3.11.7"
  }
 },
 "nbformat": 4,
 "nbformat_minor": 5
}
