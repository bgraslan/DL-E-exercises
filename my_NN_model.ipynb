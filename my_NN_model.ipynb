{
 "cells": [
  {
   "cell_type": "code",
   "execution_count": 768,
   "id": "b4e2cae4-f829-4c8e-84f6-12c869acfdeb",
   "metadata": {},
   "outputs": [],
   "source": [
    "import numpy as np\n",
    "import pandas as pd\n",
    "import matplotlib.pyplot as plt\n",
    "import copy"
   ]
  },
  {
   "cell_type": "code",
   "execution_count": 769,
   "id": "ddacd43a-f220-472e-914c-c36bc342801d",
   "metadata": {},
   "outputs": [],
   "source": [
    "def init_parameters(layer_dims):\n",
    "    np.random.seed(1)\n",
    "    parameters = {}\n",
    "    L = len(layer_dims)\n",
    "    for l in range(1,L):\n",
    "        #parameters['W' + str(l)] = np.random.randn(layer_dims[l],layer_dims[l-1])*0.01\n",
    "        parameters['W' + str(l)] = np.random.randn(layer_dims[l], layer_dims[l-1]) / np.sqrt(layer_dims[l-1]) #*0.01\n",
    "        parameters['b' + str(l)] = np.zeros((layer_dims[l],1)) \n",
    "    return parameters"
   ]
  },
  {
   "cell_type": "code",
   "execution_count": 770,
   "id": "7fcd2f18-b2c3-4921-bb5f-b3dc1dfd8fb4",
   "metadata": {},
   "outputs": [],
   "source": [
    "def sigmoid_func(Z):\n",
    "    A = 1/(1+np.exp(-Z))\n",
    "    cache = Z\n",
    "    return A, cache\n",
    "\n",
    "def relu_func(Z):\n",
    "    A = np.maximum(0,Z)\n",
    "    cache = Z \n",
    "    return A, cache"
   ]
  },
  {
   "cell_type": "code",
   "execution_count": 771,
   "id": "18cc8b26-4e15-4579-b2ae-563fb531ef42",
   "metadata": {},
   "outputs": [],
   "source": [
    "def linear_forward(A, W, b):\n",
    "    Z = np.dot(W,A) + b\n",
    "    cache = (A, W, b)\n",
    "    return Z, cache\n",
    "\n",
    "def linear_activation_forward(A_prev, W, b, act_func):\n",
    "    if act_func == 'sigmoid':\n",
    "        Z, linear_cache = linear_forward(A_prev,W,b)\n",
    "        A, activation_cache = sigmoid_func(Z)\n",
    "\n",
    "    elif act_func == 'relu':\n",
    "        Z, linear_cache = linear_forward(A_prev,W,b)\n",
    "        A, activation_cache = relu_func(Z)\n",
    "\n",
    "    cache = (linear_cache, activation_cache)\n",
    "\n",
    "    return A, cache\n",
    "\n",
    "def NN_model_forward(X, parameters):\n",
    "    caches = []\n",
    "    A = X\n",
    "    L = len(parameters) // 2 \n",
    "\n",
    "    for l in range(1,L):\n",
    "        A_prev = A\n",
    "        A, cache = linear_activation_forward(A_prev, parameters['W' + str(l)], parameters['b' + str(l)], act_func='relu')\n",
    "        caches.append(cache)\n",
    "        \n",
    "    AL, cache = linear_activation_forward(A, parameters['W' + str(L)], parameters['b' + str(L)], act_func='sigmoid')\n",
    "    caches.append(cache)\n",
    "\n",
    "    return AL, caches"
   ]
  },
  {
   "cell_type": "code",
   "execution_count": 773,
   "id": "9015462e-8b39-48f7-abba-c06bc6334a38",
   "metadata": {},
   "outputs": [],
   "source": [
    "def compute_cost(AL, Y,i):\n",
    "    m = Y.shape[1]\n",
    "    cost = np.dot((Y*np.log(AL) + (1-Y)*np.log(1-AL)),np.ones((m,1)))*(-1/m)\n",
    "    cost = np.squeeze(cost)\n",
    "    return cost"
   ]
  },
  {
   "cell_type": "code",
   "execution_count": 331,
   "id": "ec46a129-ff93-4100-970b-74474732c669",
   "metadata": {},
   "outputs": [],
   "source": [
    "def relu_backward_func(dA, cache):\n",
    "    Z = cache\n",
    "    dZ = np.array(dA, copy=True) \n",
    "    dZ[Z <= 0] = 0\n",
    "    return dZ\n",
    "\n",
    "def sigmoid_backward_func(dA, cache):\n",
    "    Z = cache\n",
    "    s = 1/(1+np.exp(-Z))\n",
    "    dZ = dA * s * (1-s)\n",
    "    return dZ"
   ]
  },
  {
   "cell_type": "code",
   "execution_count": 332,
   "id": "302fb03d-bcba-482e-be46-b37f557f9029",
   "metadata": {},
   "outputs": [],
   "source": [
    "def linear_backward(dZ, cache):\n",
    "    A_prev, W, b = cache\n",
    "    m = A_prev.shape[1]\n",
    "\n",
    "    dW = np.dot(dZ, A_prev.T)/m\n",
    "    db = np.sum(dZ, axis = 1, keepdims = True)/m\n",
    "    dA_prev = np.dot(W.T,dZ)\n",
    "    \n",
    "    return dA_prev, dW, db \n",
    "\n",
    "def linear_activation_backward(dA, cache, act_func):\n",
    "    linear_cache, activation_cache = cache\n",
    "    if act_func == 'relu':\n",
    "        dZ = relu_backward_func(dA, activation_cache)\n",
    "        dA_prev, dW, db = linear_backward(dZ, linear_cache)\n",
    "    elif act_func == 'sigmoid':\n",
    "        dZ = sigmoid_backward_func(dA, activation_cache)\n",
    "        dA_prev, dW, db = linear_backward(dZ, linear_cache)\n",
    "    return dA_prev, dW, db\n",
    "\n",
    "def NN_model_backward(AL, Y, caches):\n",
    "    grads = {}\n",
    "    L = len(caches)\n",
    "    m = AL.shape[1]\n",
    "    Y = Y.reshape(AL.shape)\n",
    "    dAL = -(np.divide(Y, AL) -np.divide(1 - Y, 1-AL))\n",
    "\n",
    "    current_cache = caches[L-1]\n",
    "    dA_prev_temp, dW_temp, db_temp = linear_activation_backward(dAL, current_cache, act_func='sigmoid')\n",
    "    grads['dA' + str(L-1)] = dA_prev_temp\n",
    "    grads['dW' + str(L)] = dW_temp\n",
    "    grads['db' + str(L)] = db_temp\n",
    "\n",
    "    for l in reversed(range(L-1)):\n",
    "        current_cache = caches[l]\n",
    "        dA_prev_temp, dW_temp, db_temp = linear_activation_backward(dA_prev_temp, current_cache, act_func='relu')\n",
    "        grads['dA' + str(l)] = dA_prev_temp\n",
    "        grads['dW' + str(l + 1)] = dW_temp\n",
    "        grads['db' + str(l + 1)] = db_temp\n",
    "        \n",
    "        \n",
    "    return grads"
   ]
  },
  {
   "cell_type": "code",
   "execution_count": 333,
   "id": "c421711d-5117-4e2f-9cef-6f90ad378883",
   "metadata": {},
   "outputs": [],
   "source": [
    "def update_parameters(params, grads, learning_rate):\n",
    "    parameters = copy.deepcopy(params)\n",
    "    L = len(parameters) // 2\n",
    "    for l in range(L):\n",
    "        parameters['W' + str(l+1)] = parameters['W' + str(l+1)] - grads['dW' + str(l+1)]*learning_rate\n",
    "        parameters['b' + str(l+1)] = parameters['b' + str(l+1)] - grads['db' + str(l+1)]*learning_rate\n",
    "    \n",
    "    return parameters"
   ]
  },
  {
   "cell_type": "code",
   "execution_count": 496,
   "id": "01a01d10-3f95-4f11-8a45-d5254aea57da",
   "metadata": {},
   "outputs": [],
   "source": [
    "def NN_model(X,Y, layers_dims, learning_rate = 0.0075, iter_no = 1000000, pr_cost = False):\n",
    "    np.random.seed(1)\n",
    "    costs=[]\n",
    "    parameters = init_parameters(layers_dims)\n",
    "    for i in range(0, iter_no):\n",
    "        AL, caches = NN_model_forward(X, parameters)\n",
    "        cost = compute_cost(AL,Y,i)\n",
    "        grads = NN_model_backward(AL, Y, caches)\n",
    "        parameters = update_parameters(parameters, grads, learning_rate = learning_rate)\n",
    "        if pr_cost and i%1000 == 0 or i == iter_no-1:\n",
    "            print(\"{} - Cost = {}\".format(i,np.squeeze(cost)))\n",
    "        if i%1000 == 0 or i == iter_no:\n",
    "            costs.append(cost)\n",
    "    return parameters, costs"
   ]
  },
  {
   "cell_type": "code",
   "execution_count": 753,
   "id": "2d7308ae-4fec-4ce8-83cd-42a12260e436",
   "metadata": {},
   "outputs": [],
   "source": [
    "def predict_test(X, y, parameters):\n",
    "    m = X.shape[1]\n",
    "    n = len(parameters) // 2 \n",
    "    p = np.zeros((1,m))\n",
    "    probas, caches = NN_model_forward(X, parameters)\n",
    "    for i in range(0, probas.shape[1]):\n",
    "        if probas[0,i] > 0.5:\n",
    "            p[0,i] = 1\n",
    "        else:\n",
    "            p[0,i] = 0\n",
    "    print(\"Accuracy: \"  + str(np.sum((p == y)/m)))\n",
    "        \n",
    "    return p"
   ]
  },
  {
   "cell_type": "code",
   "execution_count": 481,
   "id": "de1a06e5-d3d9-43d6-9876-a7ca6ff26dcc",
   "metadata": {},
   "outputs": [],
   "source": [
    "def prepare_data(df):\n",
    "    X = df.drop(columns = 'Survived').values\n",
    "    y = df['Survived'].values.reshape((-1,1))\n",
    "    maxX = np.max(X,axis=0)\n",
    "    X=X/maxX\n",
    "    return X.T,y.T\n",
    "def prepare_test_data(df):\n",
    "    X = df.values\n",
    "    maxX = np.max(X,axis=0)\n",
    "    X=X/maxX\n",
    "    return X.T"
   ]
  },
  {
   "cell_type": "code",
   "execution_count": 815,
   "id": "191f4278-5351-41f5-bd3d-585791ddf505",
   "metadata": {},
   "outputs": [],
   "source": [
    "df = pd.read_csv('Data/train.csv')\n",
    "df_test = pd.read_csv('Data/test.csv')"
   ]
  },
  {
   "cell_type": "code",
   "execution_count": 816,
   "id": "3357e895-5cba-470f-b7a6-ac0d657c9267",
   "metadata": {},
   "outputs": [],
   "source": [
    "df.drop(columns='Cabin', inplace= True)\n",
    "df_test.drop(columns='Cabin', inplace= True)\n",
    "\n",
    "df.drop(columns='Name', inplace= True)\n",
    "df_test.drop(columns='Name', inplace= True)\n",
    "\n",
    "df.drop(columns='PassengerId', inplace= True)\n",
    "df_test.drop(columns='PassengerId', inplace= True)\n",
    "\n",
    "df.drop(columns='Ticket', inplace= True)\n",
    "df_test.drop(columns='Ticket', inplace= True)"
   ]
  },
  {
   "cell_type": "code",
   "execution_count": 817,
   "id": "3ee71b5c-6786-493f-b7cf-9d9615898a75",
   "metadata": {},
   "outputs": [],
   "source": [
    "df.loc[df['Pclass'] == 1, 'Age'] = df.loc[df['Pclass'] == 1, 'Age'].fillna(df[df['Pclass'] == 1]['Age'].mean())\n",
    "df.loc[df['Pclass'] == 2, 'Age'] = df.loc[df['Pclass'] == 2, 'Age'].fillna(df[df['Pclass'] == 2]['Age'].mean())\n",
    "df.loc[df['Pclass'] == 3, 'Age'] = df.loc[df['Pclass'] == 3, 'Age'].fillna(df[df['Pclass'] == 3]['Age'].mean())\n",
    "df['Embarked'] = df['Embarked'].fillna('S')\n",
    "\n",
    "df_test.loc[df_test['Pclass'] == 1, 'Age'] = df_test.loc[df_test['Pclass'] == 1, 'Age'].fillna(df_test[df_test['Pclass'] == 1]['Age'].mean())\n",
    "df_test.loc[df_test['Pclass'] == 2, 'Age'] = df_test.loc[df_test['Pclass'] == 2, 'Age'].fillna(df_test[df_test['Pclass'] == 2]['Age'].mean())\n",
    "df_test.loc[df_test['Pclass'] == 3, 'Age'] = df_test.loc[df_test['Pclass'] == 3, 'Age'].fillna(df_test[df_test['Pclass'] == 3]['Age'].mean())\n",
    "\n",
    "df_test['Fare'] = df_test['Fare'].fillna(df_test['Fare'].mean())"
   ]
  },
  {
   "cell_type": "code",
   "execution_count": 818,
   "id": "4b48e770-9e8b-466a-a1af-874817f2e14c",
   "metadata": {},
   "outputs": [],
   "source": [
    "df['Fare']=df['Fare']/(df['SibSp'] + df['Parch'] +1)\n",
    "df_test['Fare']=df_test['Fare']/(df_test['SibSp'] + df_test['Parch'] +1)"
   ]
  },
  {
   "cell_type": "code",
   "execution_count": 819,
   "id": "f1e34008-d7d9-4674-821f-5566d56d2917",
   "metadata": {},
   "outputs": [
    {
     "name": "stdout",
     "output_type": "stream",
     "text": [
      "Survived    0\n",
      "Pclass      0\n",
      "Sex         0\n",
      "Age         0\n",
      "SibSp       0\n",
      "Parch       0\n",
      "Fare        0\n",
      "Embarked    0\n",
      "dtype: int64 Pclass      0\n",
      "Sex         0\n",
      "Age         0\n",
      "SibSp       0\n",
      "Parch       0\n",
      "Fare        0\n",
      "Embarked    0\n",
      "dtype: int64\n"
     ]
    }
   ],
   "source": [
    "print(df.isnull().sum(),df_test.isnull().sum())"
   ]
  },
  {
   "cell_type": "code",
   "execution_count": 820,
   "id": "8ca24409-07bc-4b2d-9a39-373a56447cd7",
   "metadata": {},
   "outputs": [],
   "source": [
    "for label, content in df.items():\n",
    "    if not pd.api.types.is_numeric_dtype(content):\n",
    "        df[label] = content.astype(\"category\").cat.as_ordered()\n",
    "        df[label] = pd.Categorical(content).codes\n",
    "\n",
    "for label, content in df_test.items():\n",
    "    if not pd.api.types.is_numeric_dtype(content):\n",
    "        df_test[label] = content.astype(\"category\").cat.as_ordered()\n",
    "        df_test[label] = pd.Categorical(content).codes"
   ]
  },
  {
   "cell_type": "code",
   "execution_count": 821,
   "id": "74ab4b13-c05b-434d-85c1-b35122b78e4a",
   "metadata": {},
   "outputs": [],
   "source": [
    "df['S_P_W']=df['Pclass']*df['Pclass']*(df['Sex'] + 1)\n",
    "df_test['S_P_W']=df_test['Pclass']*df_test['Pclass']*(df_test['Sex'] + 1)"
   ]
  },
  {
   "cell_type": "code",
   "execution_count": 961,
   "id": "53480f2e-0db8-41c8-85d5-c725ff791bb2",
   "metadata": {},
   "outputs": [],
   "source": [
    "#np.random.seed(0)\n",
    "valid = df.sample(n = int(len(df)*0.3),random_state=77)\n",
    "train = df.drop(valid.index)"
   ]
  },
  {
   "cell_type": "code",
   "execution_count": 962,
   "id": "71f404ed-aba3-44a8-8ce6-d969c16ba177",
   "metadata": {},
   "outputs": [],
   "source": [
    "X_train, y_train = prepare_data(train)\n",
    "X_valid, y_valid = prepare_data(valid)\n",
    "X_Train, y_Valid = prepare_data(df)\n",
    "test = prepare_test_data(df_test)"
   ]
  },
  {
   "cell_type": "code",
   "execution_count": 963,
   "id": "9a5bf289-dffc-475d-b822-d0ee2f8b1935",
   "metadata": {},
   "outputs": [],
   "source": [
    "layer_dims_dev=[X_train.shape[0],21,12,5,1]\n",
    "layer_dims=[X_train.shape[0],25,13,6,1]"
   ]
  },
  {
   "cell_type": "code",
   "execution_count": 965,
   "id": "9721b30d-364b-417d-8133-3a384123b495",
   "metadata": {},
   "outputs": [
    {
     "name": "stdout",
     "output_type": "stream",
     "text": [
      "0 - Cost = 0.6357176344895739\n",
      "1000 - Cost = 0.47471230449017554\n",
      "2000 - Cost = 0.4382877076439965\n",
      "3000 - Cost = 0.4203198891461802\n",
      "4000 - Cost = 0.41151643192026816\n",
      "5000 - Cost = 0.40487162393150167\n",
      "6000 - Cost = 0.3987586702521141\n",
      "6099 - Cost = 0.39823000038706174\n"
     ]
    }
   ],
   "source": [
    "paramerers, cache = NN_model(X_train,y_train,layer_dims,learning_rate=0.025,iter_no=6100,pr_cost=True)"
   ]
  },
  {
   "cell_type": "code",
   "execution_count": 966,
   "id": "58f59e76-f457-401e-b0fd-b9c9f8df30db",
   "metadata": {},
   "outputs": [
    {
     "name": "stdout",
     "output_type": "stream",
     "text": [
      "Accuracy: 0.8397435897435896\n",
      "Accuracy: 0.34455128205128205\n",
      "Accuracy: 0.7940074906367042\n",
      "Accuracy: 0.32958801498127344\n"
     ]
    }
   ],
   "source": [
    "pred_T = predict_test(X_train,y_train,paramerers)\n",
    "_ = predict_test(X_train,1,paramerers).astype(int)\n",
    "pred_V = predict_test(X_valid,y_valid,paramerers)\n",
    "_ = predict_test(X_valid,1,paramerers).astype(int)"
   ]
  },
  {
   "cell_type": "code",
   "execution_count": 969,
   "id": "f6a2f6b9-d292-43e3-980f-3f1b8391c356",
   "metadata": {},
   "outputs": [
    {
     "name": "stdout",
     "output_type": "stream",
     "text": [
      "0 - Cost = 0.6294604467817047\n",
      "1000 - Cost = 0.4315565559379658\n",
      "2000 - Cost = 0.4071065350023799\n",
      "3000 - Cost = 0.40434692666378486\n",
      "4000 - Cost = 0.4019374606482131\n",
      "5000 - Cost = 0.3967457951886351\n",
      "6000 - Cost = 0.395354588157561\n",
      "6099 - Cost = 0.3921182632926092\n"
     ]
    }
   ],
   "source": [
    "paramerers, cache = NN_model(X_Train,y_Valid,layer_dims,learning_rate=0.05,iter_no=6100,pr_cost=True)"
   ]
  },
  {
   "cell_type": "code",
   "execution_count": 970,
   "id": "2d3f252a-674e-4969-ba44-2b3e664263b8",
   "metadata": {},
   "outputs": [
    {
     "name": "stdout",
     "output_type": "stream",
     "text": [
      "Accuracy: 0.28708133971291866\n"
     ]
    }
   ],
   "source": [
    "prediction = predict_test(test,1,paramerers).astype(int)"
   ]
  },
  {
   "cell_type": "code",
   "execution_count": 971,
   "id": "1571c16f-13a0-4da5-ba45-7c33f69feda0",
   "metadata": {},
   "outputs": [],
   "source": [
    "write= pd.read_csv(\"Data/test.csv\")\n",
    "result=pd.DataFrame({\"PassengerId\":write['PassengerId'],\"Survived\":prediction[0]})\n",
    "result.to_csv(\"resultNN.csv\", index=False)"
   ]
  },
  {
   "cell_type": "code",
   "execution_count": 972,
   "id": "cd587146-d097-4959-9ed9-9a375fef9347",
   "metadata": {},
   "outputs": [
    {
     "data": {
      "text/plain": [
       "array([[0, 0, 0, 0, 0, 0, 1, 0, 1, 0, 0, 0, 1, 0, 1, 1, 0, 0, 0, 0, 0, 0,\n",
       "        1, 1, 1, 0, 1, 0, 0, 0, 0, 0, 0, 0, 0, 0, 0, 0, 0, 0, 0, 0, 0, 1,\n",
       "        1, 0, 0, 0, 1, 0, 0, 0, 1, 1, 0, 0, 0, 0, 0, 1, 0, 0, 0, 1, 1, 1,\n",
       "        1, 0, 0, 1, 1, 0, 0, 0, 1, 1, 0, 1, 0, 1, 1, 0, 0, 0, 0, 0, 1, 0,\n",
       "        1, 1, 0, 0, 1, 0, 0, 0, 1, 0, 0, 0, 1, 0, 0, 0, 1, 0, 0, 0, 0, 0,\n",
       "        0, 1, 1, 1, 1, 0, 0, 0, 0, 1, 1, 0, 1, 0, 0, 1, 0, 0, 0, 0, 0, 0,\n",
       "        0, 0, 0, 0, 0, 0, 0, 0, 0, 1, 0, 0, 0, 0, 0, 0, 0, 0, 1, 0, 0, 0,\n",
       "        0, 0, 1, 0, 0, 0, 1, 1, 1, 0, 0, 0, 0, 0, 1, 0, 0, 0, 0, 0, 0, 1,\n",
       "        1, 0, 1, 1, 0, 0, 1, 0, 1, 0, 1, 0, 0, 0, 0, 0, 0, 0, 1, 0, 1, 0,\n",
       "        0, 0, 1, 1, 0, 1, 0, 0, 1, 0, 1, 0, 0, 0, 0, 1, 0, 0, 1, 0, 1, 0,\n",
       "        1, 0, 1, 0, 1, 1, 0, 1, 0, 0, 0, 1, 0, 0, 0, 0, 0, 0, 1, 1, 1, 1,\n",
       "        0, 0, 0, 0, 1, 0, 1, 0, 1, 0, 0, 0, 0, 0, 0, 0, 1, 0, 0, 0, 1, 0,\n",
       "        0, 0, 0, 0, 0, 0, 0, 0, 1, 1, 0, 1, 0, 0, 0, 0, 0, 0, 1, 1, 0, 0,\n",
       "        0, 0, 0, 0, 0, 1, 0, 0, 0, 0, 1, 0, 0, 0, 0, 0, 0, 0, 1, 1, 1, 0,\n",
       "        0, 0, 0, 0, 0, 1, 1, 1, 0, 0, 0, 0, 0, 0, 0, 0, 1, 0, 1, 0, 0, 0,\n",
       "        1, 0, 0, 1, 0, 0, 0, 0, 0, 0, 0, 0, 0, 1, 0, 0, 0, 0, 0, 1, 1, 0,\n",
       "        0, 0, 1, 0, 1, 0, 0, 0, 0, 1, 1, 0, 1, 0, 0, 1, 1, 0, 0, 1, 0, 0,\n",
       "        1, 1, 0, 0, 0, 0, 0, 0, 0, 0, 0, 1, 0, 0, 0, 0, 0, 1, 0, 0, 0, 1,\n",
       "        0, 1, 0, 0, 1, 0, 1, 0, 0, 0, 0, 0, 1, 0, 1, 1, 0, 0, 1, 0, 0, 0]])"
      ]
     },
     "execution_count": 972,
     "metadata": {},
     "output_type": "execute_result"
    }
   ],
   "source": [
    "prediction"
   ]
  },
  {
   "cell_type": "code",
   "execution_count": null,
   "id": "9446f70c-6d4e-4cbf-a2a6-2b27479f9d8e",
   "metadata": {},
   "outputs": [],
   "source": []
  }
 ],
 "metadata": {
  "kernelspec": {
   "display_name": "Python 3 (ipykernel)",
   "language": "python",
   "name": "python3"
  },
  "language_info": {
   "codemirror_mode": {
    "name": "ipython",
    "version": 3
   },
   "file_extension": ".py",
   "mimetype": "text/x-python",
   "name": "python",
   "nbconvert_exporter": "python",
   "pygments_lexer": "ipython3",
   "version": "3.11.7"
  }
 },
 "nbformat": 4,
 "nbformat_minor": 5
}
